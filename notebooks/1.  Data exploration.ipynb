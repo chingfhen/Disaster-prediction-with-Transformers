{
 "cells": [
  {
   "cell_type": "markdown",
   "id": "30cd99cd",
   "metadata": {},
   "source": [
    "# ABOUT:\n",
    "- we explore the texual features to get a feel of how to preprocess properly"
   ]
  },
  {
   "cell_type": "code",
   "execution_count": 1,
   "id": "f3727944",
   "metadata": {},
   "outputs": [],
   "source": [
    "import pandas as pd\n",
    "trainSet = pd.read_csv(r\"C:\\Users\\tanch\\Documents\\Coding Competitions\\Kaggle\\Natural Language Processing with Disaster Tweets (local)\\data\\train.csv\")\n",
    "testSet  =pd.read_csv(r\"C:\\Users\\tanch\\Documents\\Coding Competitions\\Kaggle\\Natural Language Processing with Disaster Tweets (local)\\data\\test.csv\")"
   ]
  },
  {
   "cell_type": "markdown",
   "id": "5485c9c5",
   "metadata": {},
   "source": [
    "## NAs"
   ]
  },
  {
   "cell_type": "code",
   "execution_count": 11,
   "id": "251fae42",
   "metadata": {
    "scrolled": false
   },
   "outputs": [
    {
     "data": {
      "text/plain": [
       "id          0.000000\n",
       "keyword     0.008013\n",
       "location    0.332720\n",
       "text        0.000000\n",
       "target      0.000000\n",
       "dtype: float64"
      ]
     },
     "execution_count": 11,
     "metadata": {},
     "output_type": "execute_result"
    }
   ],
   "source": [
    "trainSet.isna().sum()/len(trainSet)"
   ]
  },
  {
   "cell_type": "code",
   "execution_count": 12,
   "id": "68edeeb4",
   "metadata": {
    "scrolled": true
   },
   "outputs": [
    {
     "data": {
      "text/plain": [
       "id          0.000000\n",
       "keyword     0.007968\n",
       "location    0.338645\n",
       "text        0.000000\n",
       "dtype: float64"
      ]
     },
     "execution_count": 12,
     "metadata": {},
     "output_type": "execute_result"
    }
   ],
   "source": [
    "testSet.isna().sum()/len(testSet)"
   ]
  },
  {
   "cell_type": "markdown",
   "id": "8ffaea39",
   "metadata": {},
   "source": [
    "- (above) location feature has a large number of NAs\n",
    "- keyword feature has a small portion of NAs"
   ]
  },
  {
   "cell_type": "markdown",
   "id": "fed9c112",
   "metadata": {},
   "source": [
    "## Uniqueness"
   ]
  },
  {
   "cell_type": "code",
   "execution_count": 16,
   "id": "03607c20",
   "metadata": {},
   "outputs": [
    {
     "data": {
      "text/plain": [
       "id          1.000000\n",
       "keyword     0.029029\n",
       "location    0.438855\n",
       "text        0.985551\n",
       "target      0.000263\n",
       "dtype: float64"
      ]
     },
     "execution_count": 16,
     "metadata": {},
     "output_type": "execute_result"
    }
   ],
   "source": [
    "trainSet.nunique()/len(trainSet)"
   ]
  },
  {
   "cell_type": "code",
   "execution_count": 18,
   "id": "1539bed5",
   "metadata": {},
   "outputs": [
    {
     "data": {
      "text/plain": [
       "id          1.000000\n",
       "keyword     0.067729\n",
       "location    0.490959\n",
       "text        0.993871\n",
       "dtype: float64"
      ]
     },
     "execution_count": 18,
     "metadata": {},
     "output_type": "execute_result"
    }
   ],
   "source": [
    "testSet.nunique()/len(testSet)"
   ]
  },
  {
   "cell_type": "code",
   "execution_count": 21,
   "id": "78ffc340",
   "metadata": {
    "scrolled": true
   },
   "outputs": [
    {
     "data": {
      "text/plain": [
       "array([nan, 'ablaze', 'accident', 'aftershock', 'airplane%20accident',\n",
       "       'ambulance', 'annihilated', 'annihilation', 'apocalypse',\n",
       "       'armageddon', 'army', 'arson', 'arsonist', 'attack', 'attacked',\n",
       "       'avalanche', 'battle', 'bioterror', 'bioterrorism', 'blaze',\n",
       "       'blazing', 'bleeding', 'blew%20up', 'blight', 'blizzard', 'blood',\n",
       "       'bloody', 'blown%20up', 'body%20bag', 'body%20bagging',\n",
       "       'body%20bags', 'bomb', 'bombed', 'bombing', 'bridge%20collapse',\n",
       "       'buildings%20burning', 'buildings%20on%20fire', 'burned',\n",
       "       'burning', 'burning%20buildings', 'bush%20fires', 'casualties',\n",
       "       'casualty', 'catastrophe', 'catastrophic', 'chemical%20emergency',\n",
       "       'cliff%20fall', 'collapse', 'collapsed', 'collide', 'collided',\n",
       "       'collision', 'crash', 'crashed', 'crush', 'crushed', 'curfew',\n",
       "       'cyclone', 'damage', 'danger', 'dead', 'death', 'deaths', 'debris',\n",
       "       'deluge', 'deluged', 'demolish', 'demolished', 'demolition',\n",
       "       'derail', 'derailed', 'derailment', 'desolate', 'desolation',\n",
       "       'destroy', 'destroyed', 'destruction', 'detonate', 'detonation',\n",
       "       'devastated', 'devastation', 'disaster', 'displaced', 'drought',\n",
       "       'drown', 'drowned', 'drowning', 'dust%20storm', 'earthquake',\n",
       "       'electrocute', 'electrocuted', 'emergency', 'emergency%20plan',\n",
       "       'emergency%20services', 'engulfed', 'epicentre', 'evacuate',\n",
       "       'evacuated', 'evacuation', 'explode', 'exploded', 'explosion',\n",
       "       'eyewitness', 'famine', 'fatal', 'fatalities', 'fatality', 'fear',\n",
       "       'fire', 'fire%20truck', 'first%20responders', 'flames',\n",
       "       'flattened', 'flood', 'flooding', 'floods', 'forest%20fire',\n",
       "       'forest%20fires', 'hail', 'hailstorm', 'harm', 'hazard',\n",
       "       'hazardous', 'heat%20wave', 'hellfire', 'hijack', 'hijacker',\n",
       "       'hijacking', 'hostage', 'hostages', 'hurricane', 'injured',\n",
       "       'injuries', 'injury', 'inundated', 'inundation', 'landslide',\n",
       "       'lava', 'lightning', 'loud%20bang', 'mass%20murder',\n",
       "       'mass%20murderer', 'massacre', 'mayhem', 'meltdown', 'military',\n",
       "       'mudslide', 'natural%20disaster', 'nuclear%20disaster',\n",
       "       'nuclear%20reactor', 'obliterate', 'obliterated', 'obliteration',\n",
       "       'oil%20spill', 'outbreak', 'pandemonium', 'panic', 'panicking',\n",
       "       'police', 'quarantine', 'quarantined', 'radiation%20emergency',\n",
       "       'rainstorm', 'razed', 'refugees', 'rescue', 'rescued', 'rescuers',\n",
       "       'riot', 'rioting', 'rubble', 'ruin', 'sandstorm', 'screamed',\n",
       "       'screaming', 'screams', 'seismic', 'sinkhole', 'sinking', 'siren',\n",
       "       'sirens', 'smoke', 'snowstorm', 'storm', 'stretcher',\n",
       "       'structural%20failure', 'suicide%20bomb', 'suicide%20bomber',\n",
       "       'suicide%20bombing', 'sunk', 'survive', 'survived', 'survivors',\n",
       "       'terrorism', 'terrorist', 'threat', 'thunder', 'thunderstorm',\n",
       "       'tornado', 'tragedy', 'trapped', 'trauma', 'traumatised',\n",
       "       'trouble', 'tsunami', 'twister', 'typhoon', 'upheaval',\n",
       "       'violent%20storm', 'volcano', 'war%20zone', 'weapon', 'weapons',\n",
       "       'whirlwind', 'wild%20fires', 'wildfire', 'windstorm', 'wounded',\n",
       "       'wounds', 'wreck', 'wreckage', 'wrecked'], dtype=object)"
      ]
     },
     "execution_count": 21,
     "metadata": {},
     "output_type": "execute_result"
    }
   ],
   "source": [
    "trainSet.keyword.unique()"
   ]
  },
  {
   "cell_type": "markdown",
   "id": "6958c43c",
   "metadata": {},
   "source": [
    "- text feature is about 98% unique values, which also suggests that there are duplicates to remove later\n",
    "- keyword feature has a small number of unique values and they seem to be corrupted with \"%20\" which we will remove later\n",
    "- location feature has rather high cardinality"
   ]
  },
  {
   "cell_type": "markdown",
   "id": "b1509ca6",
   "metadata": {},
   "source": [
    "## target distribution"
   ]
  },
  {
   "cell_type": "code",
   "execution_count": 23,
   "id": "f620cc5d",
   "metadata": {},
   "outputs": [
    {
     "data": {
      "text/plain": [
       "0    4342\n",
       "1    3271\n",
       "Name: target, dtype: int64"
      ]
     },
     "execution_count": 23,
     "metadata": {},
     "output_type": "execute_result"
    }
   ],
   "source": [
    "trainSet.target.value_counts()"
   ]
  },
  {
   "cell_type": "markdown",
   "id": "7b242ca8",
   "metadata": {},
   "source": [
    "- majority of tweets are not disasters\n",
    "- the target feature isn't too unbalanced"
   ]
  },
  {
   "cell_type": "code",
   "execution_count": 9,
   "id": "4f16695e",
   "metadata": {},
   "outputs": [
    {
     "data": {
      "text/html": [
       "<div>\n",
       "<style scoped>\n",
       "    .dataframe tbody tr th:only-of-type {\n",
       "        vertical-align: middle;\n",
       "    }\n",
       "\n",
       "    .dataframe tbody tr th {\n",
       "        vertical-align: top;\n",
       "    }\n",
       "\n",
       "    .dataframe thead th {\n",
       "        text-align: right;\n",
       "    }\n",
       "</style>\n",
       "<table border=\"1\" class=\"dataframe\">\n",
       "  <thead>\n",
       "    <tr style=\"text-align: right;\">\n",
       "      <th></th>\n",
       "      <th>id</th>\n",
       "      <th>keyword</th>\n",
       "      <th>location</th>\n",
       "      <th>text</th>\n",
       "      <th>target</th>\n",
       "    </tr>\n",
       "  </thead>\n",
       "  <tbody>\n",
       "    <tr>\n",
       "      <th>1996</th>\n",
       "      <td>2870</td>\n",
       "      <td>damage</td>\n",
       "      <td>Lawrence, KS via Emporia, KS</td>\n",
       "      <td>Hey the #Royals love doing damage with 2 outs.</td>\n",
       "      <td>1</td>\n",
       "    </tr>\n",
       "    <tr>\n",
       "      <th>3353</th>\n",
       "      <td>4799</td>\n",
       "      <td>evacuated</td>\n",
       "      <td>WA State</td>\n",
       "      <td>Entire town of Roosevelt Wash. evacuated becau...</td>\n",
       "      <td>1</td>\n",
       "    </tr>\n",
       "    <tr>\n",
       "      <th>5984</th>\n",
       "      <td>8545</td>\n",
       "      <td>screams</td>\n",
       "      <td>xiumin's nonexistent solos</td>\n",
       "      <td>//screams in the distance// http://t.co/Cfe9HU...</td>\n",
       "      <td>1</td>\n",
       "    </tr>\n",
       "    <tr>\n",
       "      <th>2424</th>\n",
       "      <td>3484</td>\n",
       "      <td>derailed</td>\n",
       "      <td>DC</td>\n",
       "      <td>So a train derailed and instead of me getting ...</td>\n",
       "      <td>1</td>\n",
       "    </tr>\n",
       "    <tr>\n",
       "      <th>2229</th>\n",
       "      <td>3188</td>\n",
       "      <td>deluge</td>\n",
       "      <td>NaN</td>\n",
       "      <td>Wrinkled the face of deluge as decayed;</td>\n",
       "      <td>0</td>\n",
       "    </tr>\n",
       "    <tr>\n",
       "      <th>2595</th>\n",
       "      <td>3724</td>\n",
       "      <td>destroyed</td>\n",
       "      <td>Montreal</td>\n",
       "      <td>@freeMurphy Your hot take on Canada's hitchhik...</td>\n",
       "      <td>1</td>\n",
       "    </tr>\n",
       "    <tr>\n",
       "      <th>3790</th>\n",
       "      <td>5382</td>\n",
       "      <td>fire%20truck</td>\n",
       "      <td>Orange County, Calif.</td>\n",
       "      <td>#SigAlert: North &amp;amp; Southbound 133 closed b...</td>\n",
       "      <td>1</td>\n",
       "    </tr>\n",
       "    <tr>\n",
       "      <th>1161</th>\n",
       "      <td>1672</td>\n",
       "      <td>bridge%20collapse</td>\n",
       "      <td>Mumbai</td>\n",
       "      <td>@ameenshaikh3 by ur. logic if bridge didnt col...</td>\n",
       "      <td>1</td>\n",
       "    </tr>\n",
       "    <tr>\n",
       "      <th>2019</th>\n",
       "      <td>2898</td>\n",
       "      <td>damage</td>\n",
       "      <td>Your Conversation</td>\n",
       "      <td>This real shit will damage a bitch</td>\n",
       "      <td>0</td>\n",
       "    </tr>\n",
       "    <tr>\n",
       "      <th>7072</th>\n",
       "      <td>10129</td>\n",
       "      <td>upheaval</td>\n",
       "      <td>NaN</td>\n",
       "      <td>Loan Upheaval Is The Way In Which Oneself Can ...</td>\n",
       "      <td>0</td>\n",
       "    </tr>\n",
       "    <tr>\n",
       "      <th>4074</th>\n",
       "      <td>5792</td>\n",
       "      <td>hail</td>\n",
       "      <td>Calgary/Airdrie/RedDeer/AB</td>\n",
       "      <td>@tremblayeh we like big hail and we cannot lie...</td>\n",
       "      <td>0</td>\n",
       "    </tr>\n",
       "    <tr>\n",
       "      <th>1656</th>\n",
       "      <td>2391</td>\n",
       "      <td>collapsed</td>\n",
       "      <td>San Francisco Bay Area</td>\n",
       "      <td>My @Quora answer to Why do my answers get coll...</td>\n",
       "      <td>0</td>\n",
       "    </tr>\n",
       "    <tr>\n",
       "      <th>6475</th>\n",
       "      <td>9262</td>\n",
       "      <td>sunk</td>\n",
       "      <td>Gaborone, Botswana</td>\n",
       "      <td>Yup. Still hasn't sunk in. ?? https://t.co/Ii2...</td>\n",
       "      <td>0</td>\n",
       "    </tr>\n",
       "    <tr>\n",
       "      <th>4424</th>\n",
       "      <td>6296</td>\n",
       "      <td>hostage</td>\n",
       "      <td>Starling City</td>\n",
       "      <td>That moth that held me hostage yesterday has b...</td>\n",
       "      <td>0</td>\n",
       "    </tr>\n",
       "    <tr>\n",
       "      <th>116</th>\n",
       "      <td>168</td>\n",
       "      <td>aftershock</td>\n",
       "      <td>NaN</td>\n",
       "      <td>320 [IR] ICEMOON [AFTERSHOCK] | http://t.co/e1...</td>\n",
       "      <td>0</td>\n",
       "    </tr>\n",
       "    <tr>\n",
       "      <th>4590</th>\n",
       "      <td>6528</td>\n",
       "      <td>injuries</td>\n",
       "      <td>Moncton, New Brunswick</td>\n",
       "      <td>Trauma injuries involving kids and sport usual...</td>\n",
       "      <td>1</td>\n",
       "    </tr>\n",
       "    <tr>\n",
       "      <th>4662</th>\n",
       "      <td>6628</td>\n",
       "      <td>inundated</td>\n",
       "      <td>the Dirty D</td>\n",
       "      <td>@MI_Country_Hick pfft! I wish I had a bot like...</td>\n",
       "      <td>0</td>\n",
       "    </tr>\n",
       "    <tr>\n",
       "      <th>6586</th>\n",
       "      <td>9431</td>\n",
       "      <td>survivors</td>\n",
       "      <td>NaN</td>\n",
       "      <td>Û÷Faceless body belonged to my sisterÛª: #Hi...</td>\n",
       "      <td>1</td>\n",
       "    </tr>\n",
       "    <tr>\n",
       "      <th>6813</th>\n",
       "      <td>9760</td>\n",
       "      <td>trapped</td>\n",
       "      <td>London, England</td>\n",
       "      <td>@almusafirah_ you feel trapped innit ??</td>\n",
       "      <td>0</td>\n",
       "    </tr>\n",
       "    <tr>\n",
       "      <th>2697</th>\n",
       "      <td>3869</td>\n",
       "      <td>detonation</td>\n",
       "      <td>NaN</td>\n",
       "      <td>New SMP Ignition Knock (Detonation) Sensor KS3...</td>\n",
       "      <td>0</td>\n",
       "    </tr>\n",
       "    <tr>\n",
       "      <th>2000</th>\n",
       "      <td>2875</td>\n",
       "      <td>damage</td>\n",
       "      <td>Unknown</td>\n",
       "      <td>@BradleyBrad47 the saw is fast af and does gre...</td>\n",
       "      <td>0</td>\n",
       "    </tr>\n",
       "    <tr>\n",
       "      <th>1849</th>\n",
       "      <td>2659</td>\n",
       "      <td>crush</td>\n",
       "      <td>EastAtlanta ??#WestGeorgia'18</td>\n",
       "      <td>WCE I can't even lie even tho I can't stand he...</td>\n",
       "      <td>0</td>\n",
       "    </tr>\n",
       "    <tr>\n",
       "      <th>1673</th>\n",
       "      <td>2416</td>\n",
       "      <td>collide</td>\n",
       "      <td>Kansas, The Free State! ~ KC</td>\n",
       "      <td>That sounds about right. Our building will hav...</td>\n",
       "      <td>0</td>\n",
       "    </tr>\n",
       "    <tr>\n",
       "      <th>6342</th>\n",
       "      <td>9067</td>\n",
       "      <td>structural%20failure</td>\n",
       "      <td>Los Angeles, Calif.</td>\n",
       "      <td>NTSB: Virgin Galactic's SpaceshipTwo crash due...</td>\n",
       "      <td>1</td>\n",
       "    </tr>\n",
       "    <tr>\n",
       "      <th>1610</th>\n",
       "      <td>2325</td>\n",
       "      <td>collapse</td>\n",
       "      <td>Blackpool, England, UK.</td>\n",
       "      <td>Ashes 2015: Australia totally collapse and the...</td>\n",
       "      <td>0</td>\n",
       "    </tr>\n",
       "    <tr>\n",
       "      <th>6398</th>\n",
       "      <td>9144</td>\n",
       "      <td>suicide%20bomber</td>\n",
       "      <td>NaN</td>\n",
       "      <td>Six people were killed Thursday when a Taliban...</td>\n",
       "      <td>1</td>\n",
       "    </tr>\n",
       "    <tr>\n",
       "      <th>5870</th>\n",
       "      <td>8387</td>\n",
       "      <td>ruin</td>\n",
       "      <td>youtube.com/channel/UCHWTLC9B4ZjUGh7yDlb55Iw</td>\n",
       "      <td>@nbc I wanna see you reboot The Fresh Prince o...</td>\n",
       "      <td>0</td>\n",
       "    </tr>\n",
       "    <tr>\n",
       "      <th>4009</th>\n",
       "      <td>5693</td>\n",
       "      <td>floods</td>\n",
       "      <td>Earth</td>\n",
       "      <td>ETP Bengal floods: CM Mamata Banerjee blames D...</td>\n",
       "      <td>1</td>\n",
       "    </tr>\n",
       "    <tr>\n",
       "      <th>7469</th>\n",
       "      <td>10686</td>\n",
       "      <td>wreck</td>\n",
       "      <td>NaN</td>\n",
       "      <td>@Captainn_Morgan car wreck ??</td>\n",
       "      <td>1</td>\n",
       "    </tr>\n",
       "    <tr>\n",
       "      <th>3164</th>\n",
       "      <td>4542</td>\n",
       "      <td>emergency</td>\n",
       "      <td>NaN</td>\n",
       "      <td>Denali wolf population declined from 143 in 20...</td>\n",
       "      <td>1</td>\n",
       "    </tr>\n",
       "  </tbody>\n",
       "</table>\n",
       "</div>"
      ],
      "text/plain": [
       "         id               keyword  \\\n",
       "1996   2870                damage   \n",
       "3353   4799             evacuated   \n",
       "5984   8545               screams   \n",
       "2424   3484              derailed   \n",
       "2229   3188                deluge   \n",
       "2595   3724             destroyed   \n",
       "3790   5382          fire%20truck   \n",
       "1161   1672     bridge%20collapse   \n",
       "2019   2898                damage   \n",
       "7072  10129              upheaval   \n",
       "4074   5792                  hail   \n",
       "1656   2391             collapsed   \n",
       "6475   9262                  sunk   \n",
       "4424   6296               hostage   \n",
       "116     168            aftershock   \n",
       "4590   6528              injuries   \n",
       "4662   6628             inundated   \n",
       "6586   9431             survivors   \n",
       "6813   9760               trapped   \n",
       "2697   3869            detonation   \n",
       "2000   2875                damage   \n",
       "1849   2659                 crush   \n",
       "1673   2416               collide   \n",
       "6342   9067  structural%20failure   \n",
       "1610   2325              collapse   \n",
       "6398   9144      suicide%20bomber   \n",
       "5870   8387                  ruin   \n",
       "4009   5693                floods   \n",
       "7469  10686                 wreck   \n",
       "3164   4542             emergency   \n",
       "\n",
       "                                          location  \\\n",
       "1996                  Lawrence, KS via Emporia, KS   \n",
       "3353                                      WA State   \n",
       "5984                    xiumin's nonexistent solos   \n",
       "2424                                            DC   \n",
       "2229                                           NaN   \n",
       "2595                                      Montreal   \n",
       "3790                         Orange County, Calif.   \n",
       "1161                                        Mumbai   \n",
       "2019                             Your Conversation   \n",
       "7072                                           NaN   \n",
       "4074                    Calgary/Airdrie/RedDeer/AB   \n",
       "1656                        San Francisco Bay Area   \n",
       "6475                            Gaborone, Botswana   \n",
       "4424                                 Starling City   \n",
       "116                                            NaN   \n",
       "4590                        Moncton, New Brunswick   \n",
       "4662                                   the Dirty D   \n",
       "6586                                           NaN   \n",
       "6813                               London, England   \n",
       "2697                                           NaN   \n",
       "2000                                       Unknown   \n",
       "1849                 EastAtlanta ??#WestGeorgia'18   \n",
       "1673                  Kansas, The Free State! ~ KC   \n",
       "6342                           Los Angeles, Calif.   \n",
       "1610                       Blackpool, England, UK.   \n",
       "6398                                           NaN   \n",
       "5870  youtube.com/channel/UCHWTLC9B4ZjUGh7yDlb55Iw   \n",
       "4009                                         Earth   \n",
       "7469                                           NaN   \n",
       "3164                                           NaN   \n",
       "\n",
       "                                                   text  target  \n",
       "1996     Hey the #Royals love doing damage with 2 outs.       1  \n",
       "3353  Entire town of Roosevelt Wash. evacuated becau...       1  \n",
       "5984  //screams in the distance// http://t.co/Cfe9HU...       1  \n",
       "2424  So a train derailed and instead of me getting ...       1  \n",
       "2229            Wrinkled the face of deluge as decayed;       0  \n",
       "2595  @freeMurphy Your hot take on Canada's hitchhik...       1  \n",
       "3790  #SigAlert: North &amp; Southbound 133 closed b...       1  \n",
       "1161  @ameenshaikh3 by ur. logic if bridge didnt col...       1  \n",
       "2019                 This real shit will damage a bitch       0  \n",
       "7072  Loan Upheaval Is The Way In Which Oneself Can ...       0  \n",
       "4074  @tremblayeh we like big hail and we cannot lie...       0  \n",
       "1656  My @Quora answer to Why do my answers get coll...       0  \n",
       "6475  Yup. Still hasn't sunk in. ?? https://t.co/Ii2...       0  \n",
       "4424  That moth that held me hostage yesterday has b...       0  \n",
       "116   320 [IR] ICEMOON [AFTERSHOCK] | http://t.co/e1...       0  \n",
       "4590  Trauma injuries involving kids and sport usual...       1  \n",
       "4662  @MI_Country_Hick pfft! I wish I had a bot like...       0  \n",
       "6586  Û÷Faceless body belonged to my sisterÛª: #Hi...       1  \n",
       "6813            @almusafirah_ you feel trapped innit ??       0  \n",
       "2697  New SMP Ignition Knock (Detonation) Sensor KS3...       0  \n",
       "2000  @BradleyBrad47 the saw is fast af and does gre...       0  \n",
       "1849  WCE I can't even lie even tho I can't stand he...       0  \n",
       "1673  That sounds about right. Our building will hav...       0  \n",
       "6342  NTSB: Virgin Galactic's SpaceshipTwo crash due...       1  \n",
       "1610  Ashes 2015: Australia totally collapse and the...       0  \n",
       "6398  Six people were killed Thursday when a Taliban...       1  \n",
       "5870  @nbc I wanna see you reboot The Fresh Prince o...       0  \n",
       "4009  ETP Bengal floods: CM Mamata Banerjee blames D...       1  \n",
       "7469                      @Captainn_Morgan car wreck ??       1  \n",
       "3164  Denali wolf population declined from 143 in 20...       1  "
      ]
     },
     "execution_count": 9,
     "metadata": {},
     "output_type": "execute_result"
    }
   ],
   "source": [
    "trainSet.sample(30)"
   ]
  },
  {
   "cell_type": "code",
   "execution_count": null,
   "id": "11c4f927",
   "metadata": {},
   "outputs": [],
   "source": []
  }
 ],
 "metadata": {
  "kernelspec": {
   "display_name": "Python 3",
   "language": "python",
   "name": "python3"
  },
  "language_info": {
   "codemirror_mode": {
    "name": "ipython",
    "version": 3
   },
   "file_extension": ".py",
   "mimetype": "text/x-python",
   "name": "python",
   "nbconvert_exporter": "python",
   "pygments_lexer": "ipython3",
   "version": "3.8.3"
  }
 },
 "nbformat": 4,
 "nbformat_minor": 5
}
